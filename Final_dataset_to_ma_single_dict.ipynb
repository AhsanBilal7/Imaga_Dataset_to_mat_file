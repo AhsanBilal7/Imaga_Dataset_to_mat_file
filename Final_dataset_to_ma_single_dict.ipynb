{
 "cells": [
  {
   "attachments": {},
   "cell_type": "markdown",
   "metadata": {},
   "source": [
    "### Installation Libraries\n",
    "You have to Import the required dependencies \n",
    "- cv2 - To read the image and resize the image\n",
    "- scipy - To savae the image array to .mat file \n",
    "- numpy to store multi-dimensional array \n",
    "\n",
    "#### Step 1\n",
    "Store the path of the class in the dictionary \n"
   ]
  },
  {
   "cell_type": "code",
   "execution_count": 2,
   "metadata": {},
   "outputs": [],
   "source": [
    "import os\n",
    "import cv2\n",
    "import numpy as np\n",
    "from scipy.io import savemat\n",
    "\n",
    "dataset = {}  # Dictionary to hold the dataset\n",
    "\n",
    "# Define the paths to the class folders\n",
    "class_folders = {\n",
    "    'traffic_incident': 'C:/Users/Pc/Downloads/Compressed/AIDER/AIDER/traffic_incident',\n",
    "    'collapsed_building': 'C:/Users/Pc/Downloads/Compressed/AIDER/AIDER/collapsed_building',\n",
    "    'fire': 'C:/Users/Pc/Downloads/Compressed/AIDER/AIDER/fire',\n",
    "    'flooded_areas': 'C:/Users/Pc/Downloads/Compressed/AIDER/AIDER/flooded_areas',\n",
    "    'normal': 'C:/Users/Pc/Downloads/Compressed/AIDER/AIDER/normal'\n",
    "}\n",
    "\n"
   ]
  },
  {
   "attachments": {},
   "cell_type": "markdown",
   "metadata": {},
   "source": [
    "#### Step 3\n",
    " - For each Class label and Label Dictionary store each path of image\n",
    " - Read the image and resize each image to 64 by 64\n",
    " - Store all the data of images in the images key of the **Dataset** of dictionary\n",
    " - Store all the labels of images in the labels key of the **Dataset** of dictionary\n",
    " - Store all the classes in the **Dataset** \n",
    " - Store this **Dataset** file in .mat file using savemat function of scipy\n",
    "  "
   ]
  },
  {
   "cell_type": "code",
   "execution_count": 27,
   "metadata": {},
   "outputs": [
    {
     "name": "stdout",
     "output_type": "stream",
     "text": [
      "On Label:  traffic_incident\n",
      "On Label:  collapsed_building\n",
      "On Label:  fire\n",
      "On Label:  flooded_areas\n",
      "On Label:  normal\n"
     ]
    }
   ],
   "source": [
    "import numpy as np\n",
    "from scipy.io import savemat\n",
    "\n",
    "dataset = {}  # Dictionary to store the dataset\n",
    "image_data = []  # List to store all image data\n",
    "labels = []  # List to store the corresponding labels\n",
    "\n",
    "label_mapping = {\n",
    "    'traffic_incident': 1,\n",
    "    'collapsed_building': 2,\n",
    "    'fire': 3,\n",
    "    'flooded_areas': 4,\n",
    "    'normal': 5\n",
    "}\n",
    "\n",
    "for class_label, folder_path in class_folders.items():\n",
    "    print(\"On Label: \", class_label)\n",
    "    class_data = []  # List to store image data for the current class\n",
    "\n",
    "    # Iterate through the images in the class folder\n",
    "    for filename in os.listdir(folder_path):\n",
    "        image_path = os.path.join(folder_path, filename)\n",
    "\n",
    "        # Load the image using OpenCV or PIL\n",
    "        image = cv2.imread(image_path)  # Example using OpenCV\n",
    "        image = cv2.resize(image, (64, 64))\n",
    "\n",
    "        # Append the image data to the class_data list\n",
    "        class_data.append(image)\n",
    "\n",
    "        # Append the corresponding label to the labels list\n",
    "        labels.append(label_mapping[class_label])\n",
    "\n",
    "    # Convert the class_data list to a numpy array\n",
    "    class_data = np.array(class_data)\n",
    "\n",
    "    # Append the class_data array to the image_data list\n",
    "    image_data.append(class_data)\n",
    "\n",
    "# Concatenate all the image data arrays into a single array\n",
    "image_data = np.concatenate(image_data, axis=0)\n",
    "\n",
    "# Convert the image_data and labels lists to numpy arrays\n",
    "image_data = np.array(image_data)\n",
    "labels = np.array(labels)\n",
    "\n",
    "# Store the image_data and labels arrays in the dataset dictionary\n",
    "dataset['images'] = image_data\n",
    "dataset['labels'] = labels\n",
    "print(dataset['labels'].shape)\n",
    "\n",
    "# Save the dataset as a MAT file\n",
    "savemat('AIDER_resized_dataset_single_dict.mat', dataset)\n"
   ]
  },
  {
   "attachments": {},
   "cell_type": "markdown",
   "metadata": {},
   "source": [
    "#### Cross-Check\n",
    "- Read the mat file to check all the label with correct name is present "
   ]
  },
  {
   "cell_type": "code",
   "execution_count": 3,
   "metadata": {},
   "outputs": [
    {
     "name": "stdout",
     "output_type": "stream",
     "text": [
      "dict_keys(['__header__', '__version__', '__globals__', 'images', 'labels'])\n",
      "__header__\n",
      "()\n",
      "__version__\n",
      "()\n",
      "__globals__\n",
      "(0,)\n",
      "images\n",
      "(6433, 64, 64, 3)\n",
      "labels\n",
      "(1, 6433)\n"
     ]
    }
   ],
   "source": [
    "from scipy.io import loadmat\n",
    "\n",
    "# Load the MAT file\n",
    "data = loadmat('AIDER_resized_dataset_single_dict.mat')\n",
    "\n",
    "# View the variables in the MAT file\n",
    "data_key = data.keys()\n",
    "print(data.keys())\n",
    "\n",
    "# Access a specific variable\n",
    "for keys in data_key:\n",
    "    print(keys)\n",
    "    variable_data = np.array(data[keys])\n",
    "    print(variable_data.shape)"
   ]
  },
  {
   "cell_type": "code",
   "execution_count": null,
   "metadata": {},
   "outputs": [],
   "source": []
  }
 ],
 "metadata": {
  "kernelspec": {
   "display_name": "Python 3",
   "language": "python",
   "name": "python3"
  },
  "language_info": {
   "codemirror_mode": {
    "name": "ipython",
    "version": 3
   },
   "file_extension": ".py",
   "mimetype": "text/x-python",
   "name": "python",
   "nbconvert_exporter": "python",
   "pygments_lexer": "ipython3",
   "version": "3.11.4"
  },
  "orig_nbformat": 4
 },
 "nbformat": 4,
 "nbformat_minor": 2
}
